{
 "cells": [
  {
   "cell_type": "markdown",
   "metadata": {},
   "source": [
    "<h5> Pandas DataFrame is two dimensional size-mutable, potentially heterogeneous tabular data structure with labeled rows and coloums). Pandas DataFrame consists of data, rows and columns. </h5>"
   ]
  },
  {
   "cell_type": "code",
   "execution_count": 4,
   "metadata": {},
   "outputs": [
    {
     "name": "stdout",
     "output_type": "stream",
     "text": [
      "      0\n",
      "0  Kofi\n",
      "1   Ama\n",
      "2   Yaw\n"
     ]
    }
   ],
   "source": [
    "import pandas as pd\n",
    "import numpy as np\n",
    "\n",
    "lst = ['Kofi', 'Ama', 'Yaw']\n",
    "df = pd.DataFrame(lst)\n",
    "\n",
    "print(df)"
   ]
  },
  {
   "cell_type": "markdown",
   "metadata": {},
   "source": [
    "<h3> Pandas DataFrame </h3>"
   ]
  },
  {
   "cell_type": "code",
   "execution_count": 2,
   "metadata": {},
   "outputs": [
    {
     "name": "stdout",
     "output_type": "stream",
     "text": [
      "   Name  age Location\n",
      "0  Kofi   10      Msc\n",
      "1   Yaw   20       MA\n",
      "2   Ama   30    Accra\n"
     ]
    }
   ],
   "source": [
    "data = {\n",
    "        'Name': ['Kofi', 'Yaw', 'Ama'],\n",
    "        'age':[10,20,30],\n",
    "        'Location': ['Msc', 'MA', 'Accra']\n",
    "        }\n",
    "\n",
    "df = pd.DataFrame(data)\n",
    "print(df)"
   ]
  },
  {
   "cell_type": "markdown",
   "metadata": {},
   "source": [
    "<h3> Dealing With Rows and Columns </h3>"
   ]
  },
  {
   "cell_type": "code",
   "execution_count": 3,
   "metadata": {},
   "outputs": [
    {
     "name": "stdout",
     "output_type": "stream",
     "text": [
      "   Name Location\n",
      "0  Kofi      Msc\n",
      "1   Yaw       MA\n",
      "2   Ama    Accra\n"
     ]
    }
   ],
   "source": [
    "#selecting two columns\n",
    "print(df[['Name','Location']])"
   ]
  },
  {
   "cell_type": "code",
   "execution_count": 4,
   "metadata": {},
   "outputs": [
    {
     "name": "stdout",
     "output_type": "stream",
     "text": [
      "Name        Kofi\n",
      "age           10\n",
      "Location     Msc\n",
      "Name: 0, dtype: object\n"
     ]
    }
   ],
   "source": [
    "print(df.iloc[0])"
   ]
  },
  {
   "cell_type": "code",
   "execution_count": 5,
   "metadata": {},
   "outputs": [
    {
     "data": {
      "text/plain": [
       "Name        Kofi\n",
       "age           10\n",
       "Location     Msc\n",
       "Name: 0, dtype: object"
      ]
     },
     "execution_count": 5,
     "metadata": {},
     "output_type": "execute_result"
    }
   ],
   "source": [
    "df.loc[0]"
   ]
  },
  {
   "cell_type": "code",
   "execution_count": 6,
   "metadata": {},
   "outputs": [
    {
     "name": "stdout",
     "output_type": "stream",
     "text": [
      "                         Team  Number Position   Age Height  Weight  \\\n",
      "Name                                                                  \n",
      "Avery Bradley  Boston Celtics     0.0       PG  25.0    6-2   180.0   \n",
      "Jae Crowder    Boston Celtics    99.0       SF  25.0    6-6   235.0   \n",
      "John Holland   Boston Celtics    30.0       SG  27.0    6-5   205.0   \n",
      "R.J. Hunter    Boston Celtics    28.0       SG  22.0    6-5   185.0   \n",
      "Jonas Jerebko  Boston Celtics     8.0       PF  29.0   6-10   231.0   \n",
      "Amir Johnson   Boston Celtics    90.0       PF  29.0    6-9   240.0   \n",
      "Jordan Mickey  Boston Celtics    55.0       PF  21.0    6-8   235.0   \n",
      "Kelly Olynyk   Boston Celtics    41.0        C  25.0    7-0   238.0   \n",
      "Terry Rozier   Boston Celtics    12.0       PG  22.0    6-2   190.0   \n",
      "Marcus Smart   Boston Celtics    36.0       PG  22.0    6-4   220.0   \n",
      "\n",
      "                         College      Salary  \n",
      "Name                                          \n",
      "Avery Bradley              Texas   7730337.0  \n",
      "Jae Crowder            Marquette   6796117.0  \n",
      "John Holland   Boston University         NaN  \n",
      "R.J. Hunter        Georgia State   1148640.0  \n",
      "Jonas Jerebko                NaN   5000000.0  \n",
      "Amir Johnson                 NaN  12000000.0  \n",
      "Jordan Mickey                LSU   1170960.0  \n",
      "Kelly Olynyk             Gonzaga   2165160.0  \n",
      "Terry Rozier          Louisville   1824360.0  \n",
      "Marcus Smart      Oklahoma State   3431040.0  \n"
     ]
    }
   ],
   "source": [
    "data =  pd.read_csv(\"nba.csv\", index_col='Name')\n",
    "print(data.head(10))"
   ]
  },
  {
   "cell_type": "code",
   "execution_count": 7,
   "metadata": {},
   "outputs": [
    {
     "name": "stdout",
     "output_type": "stream",
     "text": [
      "Team        Boston Celtics\n",
      "Number                12.0\n",
      "Position                PG\n",
      "Age                   22.0\n",
      "Height                 6-2\n",
      "Weight               190.0\n",
      "College         Louisville\n",
      "Salary           1824360.0\n",
      "Name: Terry Rozier, dtype: object \n",
      "\n",
      "\n",
      " Team        Boston Celtics\n",
      "Number                90.0\n",
      "Position                PF\n",
      "Age                   29.0\n",
      "Height                 6-9\n",
      "Weight               240.0\n",
      "College                NaN\n",
      "Salary          12000000.0\n",
      "Name: Amir Johnson, dtype: object\n"
     ]
    }
   ],
   "source": [
    "first = data.loc[\"Terry Rozier\"]\n",
    "Second = data.loc[\"Amir Johnson\"]\n",
    "\n",
    "print(first, '\\n\\n\\n', Second)"
   ]
  },
  {
   "cell_type": "code",
   "execution_count": 8,
   "metadata": {},
   "outputs": [
    {
     "data": {
      "text/plain": [
       "Name\n",
       "Avery Bradley    25.0\n",
       "Jae Crowder      25.0\n",
       "John Holland     27.0\n",
       "R.J. Hunter      22.0\n",
       "Jonas Jerebko    29.0\n",
       "                 ... \n",
       "Shelvin Mack     26.0\n",
       "Raul Neto        24.0\n",
       "Tibor Pleiss     26.0\n",
       "Jeff Withey      26.0\n",
       "NaN               NaN\n",
       "Name: Age, Length: 458, dtype: float64"
      ]
     },
     "execution_count": 8,
     "metadata": {},
     "output_type": "execute_result"
    }
   ],
   "source": [
    "first_column = data[\"Age\"]\n",
    "first_column"
   ]
  },
  {
   "cell_type": "code",
   "execution_count": 9,
   "metadata": {},
   "outputs": [
    {
     "data": {
      "text/plain": [
       "Team           Boston Celtics\n",
       "Number                   30.0\n",
       "Position                   SG\n",
       "Age                      27.0\n",
       "Height                    6-5\n",
       "Weight                  205.0\n",
       "College     Boston University\n",
       "Salary                    NaN\n",
       "Name: John Holland, dtype: object"
      ]
     },
     "execution_count": 9,
     "metadata": {},
     "output_type": "execute_result"
    }
   ],
   "source": [
    "data.iloc[2]"
   ]
  },
  {
   "cell_type": "code",
   "execution_count": 10,
   "metadata": {},
   "outputs": [
    {
     "data": {
      "text/html": [
       "<div>\n",
       "<style scoped>\n",
       "    .dataframe tbody tr th:only-of-type {\n",
       "        vertical-align: middle;\n",
       "    }\n",
       "\n",
       "    .dataframe tbody tr th {\n",
       "        vertical-align: top;\n",
       "    }\n",
       "\n",
       "    .dataframe thead th {\n",
       "        text-align: right;\n",
       "    }\n",
       "</style>\n",
       "<table border=\"1\" class=\"dataframe\">\n",
       "  <thead>\n",
       "    <tr style=\"text-align: right;\">\n",
       "      <th></th>\n",
       "      <th>First Score</th>\n",
       "      <th>Second Score</th>\n",
       "      <th>Third Score</th>\n",
       "    </tr>\n",
       "  </thead>\n",
       "  <tbody>\n",
       "    <tr>\n",
       "      <th>0</th>\n",
       "      <td>False</td>\n",
       "      <td>False</td>\n",
       "      <td>True</td>\n",
       "    </tr>\n",
       "    <tr>\n",
       "      <th>1</th>\n",
       "      <td>False</td>\n",
       "      <td>False</td>\n",
       "      <td>False</td>\n",
       "    </tr>\n",
       "    <tr>\n",
       "      <th>2</th>\n",
       "      <td>True</td>\n",
       "      <td>False</td>\n",
       "      <td>False</td>\n",
       "    </tr>\n",
       "    <tr>\n",
       "      <th>3</th>\n",
       "      <td>False</td>\n",
       "      <td>True</td>\n",
       "      <td>False</td>\n",
       "    </tr>\n",
       "  </tbody>\n",
       "</table>\n",
       "</div>"
      ],
      "text/plain": [
       "   First Score  Second Score  Third Score\n",
       "0        False         False         True\n",
       "1        False         False        False\n",
       "2         True         False        False\n",
       "3        False          True        False"
      ]
     },
     "execution_count": 10,
     "metadata": {},
     "output_type": "execute_result"
    }
   ],
   "source": [
    "dic = {\n",
    "    'First Score':[100, 90,np.nan, 95 ],\n",
    "    'Second Score':[30, 45, 56, np.nan],\n",
    "    'Third Score': [np.nan, 40, 80, 98]\n",
    "}\n",
    "\n",
    "df = pd.DataFrame(dic)\n",
    "df.isnull()"
   ]
  },
  {
   "cell_type": "code",
   "execution_count": 11,
   "metadata": {},
   "outputs": [
    {
     "data": {
      "text/html": [
       "<div>\n",
       "<style scoped>\n",
       "    .dataframe tbody tr th:only-of-type {\n",
       "        vertical-align: middle;\n",
       "    }\n",
       "\n",
       "    .dataframe tbody tr th {\n",
       "        vertical-align: top;\n",
       "    }\n",
       "\n",
       "    .dataframe thead th {\n",
       "        text-align: right;\n",
       "    }\n",
       "</style>\n",
       "<table border=\"1\" class=\"dataframe\">\n",
       "  <thead>\n",
       "    <tr style=\"text-align: right;\">\n",
       "      <th></th>\n",
       "      <th>First Score</th>\n",
       "      <th>Second Score</th>\n",
       "      <th>Third Score</th>\n",
       "    </tr>\n",
       "  </thead>\n",
       "  <tbody>\n",
       "    <tr>\n",
       "      <th>0</th>\n",
       "      <td>100.0</td>\n",
       "      <td>30.0</td>\n",
       "      <td>NaN</td>\n",
       "    </tr>\n",
       "    <tr>\n",
       "      <th>1</th>\n",
       "      <td>90.0</td>\n",
       "      <td>45.0</td>\n",
       "      <td>40.0</td>\n",
       "    </tr>\n",
       "    <tr>\n",
       "      <th>2</th>\n",
       "      <td>NaN</td>\n",
       "      <td>56.0</td>\n",
       "      <td>80.0</td>\n",
       "    </tr>\n",
       "    <tr>\n",
       "      <th>3</th>\n",
       "      <td>95.0</td>\n",
       "      <td>NaN</td>\n",
       "      <td>98.0</td>\n",
       "    </tr>\n",
       "  </tbody>\n",
       "</table>\n",
       "</div>"
      ],
      "text/plain": [
       "   First Score  Second Score  Third Score\n",
       "0        100.0          30.0          NaN\n",
       "1         90.0          45.0         40.0\n",
       "2          NaN          56.0         80.0\n",
       "3         95.0           NaN         98.0"
      ]
     },
     "execution_count": 11,
     "metadata": {},
     "output_type": "execute_result"
    }
   ],
   "source": [
    "df.fillna(0, inplace = False)\n",
    "df"
   ]
  },
  {
   "cell_type": "code",
   "execution_count": 12,
   "metadata": {},
   "outputs": [
    {
     "data": {
      "text/html": [
       "<div>\n",
       "<style scoped>\n",
       "    .dataframe tbody tr th:only-of-type {\n",
       "        vertical-align: middle;\n",
       "    }\n",
       "\n",
       "    .dataframe tbody tr th {\n",
       "        vertical-align: top;\n",
       "    }\n",
       "\n",
       "    .dataframe thead th {\n",
       "        text-align: right;\n",
       "    }\n",
       "</style>\n",
       "<table border=\"1\" class=\"dataframe\">\n",
       "  <thead>\n",
       "    <tr style=\"text-align: right;\">\n",
       "      <th></th>\n",
       "      <th>First Score</th>\n",
       "      <th>Second Score</th>\n",
       "      <th>Third Score</th>\n",
       "    </tr>\n",
       "  </thead>\n",
       "  <tbody>\n",
       "    <tr>\n",
       "      <th>1</th>\n",
       "      <td>90.0</td>\n",
       "      <td>45.0</td>\n",
       "      <td>40.0</td>\n",
       "    </tr>\n",
       "  </tbody>\n",
       "</table>\n",
       "</div>"
      ],
      "text/plain": [
       "   First Score  Second Score  Third Score\n",
       "1         90.0          45.0         40.0"
      ]
     },
     "execution_count": 12,
     "metadata": {},
     "output_type": "execute_result"
    }
   ],
   "source": [
    "df.dropna()"
   ]
  },
  {
   "cell_type": "code",
   "execution_count": 13,
   "metadata": {},
   "outputs": [
    {
     "data": {
      "text/html": [
       "<div>\n",
       "<style scoped>\n",
       "    .dataframe tbody tr th:only-of-type {\n",
       "        vertical-align: middle;\n",
       "    }\n",
       "\n",
       "    .dataframe tbody tr th {\n",
       "        vertical-align: top;\n",
       "    }\n",
       "\n",
       "    .dataframe thead th {\n",
       "        text-align: right;\n",
       "    }\n",
       "</style>\n",
       "<table border=\"1\" class=\"dataframe\">\n",
       "  <thead>\n",
       "    <tr style=\"text-align: right;\">\n",
       "      <th></th>\n",
       "      <th>First Score</th>\n",
       "      <th>Second Score</th>\n",
       "      <th>Third Score</th>\n",
       "    </tr>\n",
       "  </thead>\n",
       "  <tbody>\n",
       "    <tr>\n",
       "      <th>0</th>\n",
       "      <td>100.0</td>\n",
       "      <td>30.0</td>\n",
       "      <td>NaN</td>\n",
       "    </tr>\n",
       "    <tr>\n",
       "      <th>1</th>\n",
       "      <td>90.0</td>\n",
       "      <td>45.0</td>\n",
       "      <td>40.0</td>\n",
       "    </tr>\n",
       "    <tr>\n",
       "      <th>2</th>\n",
       "      <td>NaN</td>\n",
       "      <td>56.0</td>\n",
       "      <td>80.0</td>\n",
       "    </tr>\n",
       "    <tr>\n",
       "      <th>3</th>\n",
       "      <td>95.0</td>\n",
       "      <td>NaN</td>\n",
       "      <td>98.0</td>\n",
       "    </tr>\n",
       "  </tbody>\n",
       "</table>\n",
       "</div>"
      ],
      "text/plain": [
       "   First Score  Second Score  Third Score\n",
       "0        100.0          30.0          NaN\n",
       "1         90.0          45.0         40.0\n",
       "2          NaN          56.0         80.0\n",
       "3         95.0           NaN         98.0"
      ]
     },
     "execution_count": 13,
     "metadata": {},
     "output_type": "execute_result"
    }
   ],
   "source": [
    "df"
   ]
  },
  {
   "cell_type": "markdown",
   "metadata": {},
   "source": [
    "<h4> Iterating Rows </h4>"
   ]
  },
  {
   "cell_type": "code",
   "execution_count": 14,
   "metadata": {},
   "outputs": [
    {
     "name": "stdout",
     "output_type": "stream",
     "text": [
      "0 Name        Kofi\n",
      "age           10\n",
      "Location     Msc\n",
      "Name: 0, dtype: object\n",
      "\n",
      "1 Name        Yaw\n",
      "age          20\n",
      "Location     MA\n",
      "Name: 1, dtype: object\n",
      "\n",
      "2 Name          Ama\n",
      "age            30\n",
      "Location    Accra\n",
      "Name: 2, dtype: object\n",
      "\n"
     ]
    }
   ],
   "source": [
    "dic = {\n",
    "        'Name': ['Kofi', 'Yaw', 'Ama'],\n",
    "        'age':[10,20,30],\n",
    "        'Location': ['Msc', 'MA', 'Accra']\n",
    "        }\n",
    "df = pd.DataFrame(dic)\n",
    "\n",
    "for key, value in df.iterrows():\n",
    "    print(key,value)\n",
    "\n",
    "    print()\n"
   ]
  },
  {
   "cell_type": "code",
   "execution_count": 15,
   "metadata": {},
   "outputs": [
    {
     "data": {
      "text/html": [
       "<div>\n",
       "<style scoped>\n",
       "    .dataframe tbody tr th:only-of-type {\n",
       "        vertical-align: middle;\n",
       "    }\n",
       "\n",
       "    .dataframe tbody tr th {\n",
       "        vertical-align: top;\n",
       "    }\n",
       "\n",
       "    .dataframe thead th {\n",
       "        text-align: right;\n",
       "    }\n",
       "</style>\n",
       "<table border=\"1\" class=\"dataframe\">\n",
       "  <thead>\n",
       "    <tr style=\"text-align: right;\">\n",
       "      <th></th>\n",
       "      <th>Name</th>\n",
       "      <th>age</th>\n",
       "      <th>Location</th>\n",
       "    </tr>\n",
       "  </thead>\n",
       "  <tbody>\n",
       "    <tr>\n",
       "      <th>0</th>\n",
       "      <td>Kofi</td>\n",
       "      <td>10</td>\n",
       "      <td>Msc</td>\n",
       "    </tr>\n",
       "    <tr>\n",
       "      <th>1</th>\n",
       "      <td>Yaw</td>\n",
       "      <td>20</td>\n",
       "      <td>MA</td>\n",
       "    </tr>\n",
       "    <tr>\n",
       "      <th>2</th>\n",
       "      <td>Ama</td>\n",
       "      <td>30</td>\n",
       "      <td>Accra</td>\n",
       "    </tr>\n",
       "  </tbody>\n",
       "</table>\n",
       "</div>"
      ],
      "text/plain": [
       "   Name  age Location\n",
       "0  Kofi   10      Msc\n",
       "1   Yaw   20       MA\n",
       "2   Ama   30    Accra"
      ]
     },
     "execution_count": 15,
     "metadata": {},
     "output_type": "execute_result"
    }
   ],
   "source": [
    "df"
   ]
  },
  {
   "cell_type": "code",
   "execution_count": 16,
   "metadata": {},
   "outputs": [
    {
     "name": "stdout",
     "output_type": "stream",
     "text": [
      "Ama\n",
      "30\n",
      "Accra\n"
     ]
    }
   ],
   "source": [
    "columns = list(df)\n",
    "\n",
    "#print(columns)\n",
    "\n",
    "for i in columns:\n",
    "    print(df[i][2])"
   ]
  },
  {
   "cell_type": "markdown",
   "metadata": {},
   "source": [
    "Inserting a column in a dataFrame"
   ]
  },
  {
   "cell_type": "code",
   "execution_count": 17,
   "metadata": {},
   "outputs": [
    {
     "data": {
      "text/html": [
       "<div>\n",
       "<style scoped>\n",
       "    .dataframe tbody tr th:only-of-type {\n",
       "        vertical-align: middle;\n",
       "    }\n",
       "\n",
       "    .dataframe tbody tr th {\n",
       "        vertical-align: top;\n",
       "    }\n",
       "\n",
       "    .dataframe thead th {\n",
       "        text-align: right;\n",
       "    }\n",
       "</style>\n",
       "<table border=\"1\" class=\"dataframe\">\n",
       "  <thead>\n",
       "    <tr style=\"text-align: right;\">\n",
       "      <th></th>\n",
       "      <th>Pokemon</th>\n",
       "      <th>Type</th>\n",
       "    </tr>\n",
       "  </thead>\n",
       "  <tbody>\n",
       "    <tr>\n",
       "      <th>0</th>\n",
       "      <td>Bulb</td>\n",
       "      <td>Grass</td>\n",
       "    </tr>\n",
       "    <tr>\n",
       "      <th>1</th>\n",
       "      <td>Ivy</td>\n",
       "      <td>Grass</td>\n",
       "    </tr>\n",
       "    <tr>\n",
       "      <th>2</th>\n",
       "      <td>Ven</td>\n",
       "      <td>Grass</td>\n",
       "    </tr>\n",
       "    <tr>\n",
       "      <th>3</th>\n",
       "      <td>Charm</td>\n",
       "      <td>Fire</td>\n",
       "    </tr>\n",
       "    <tr>\n",
       "      <th>4</th>\n",
       "      <td>Charm2</td>\n",
       "      <td>Fire</td>\n",
       "    </tr>\n",
       "  </tbody>\n",
       "</table>\n",
       "</div>"
      ],
      "text/plain": [
       "  Pokemon   Type\n",
       "0    Bulb  Grass\n",
       "1     Ivy  Grass\n",
       "2     Ven  Grass\n",
       "3   Charm   Fire\n",
       "4  Charm2   Fire"
      ]
     },
     "execution_count": 17,
     "metadata": {},
     "output_type": "execute_result"
    }
   ],
   "source": [
    "df = pd.DataFrame(\n",
    "    {'Pokemon': [\"Bulb\", \"Ivy\", \" Ven\", \"Charm\", \"Charm2\"], \n",
    "    'Type': [\"Grass\", \"Grass\",\"Grass\", \"Fire\", \"Fire\"]\n",
    "    }\n",
    ")\n",
    "\n",
    "df.head()\n"
   ]
  },
  {
   "cell_type": "code",
   "execution_count": 18,
   "metadata": {},
   "outputs": [
    {
     "data": {
      "text/html": [
       "<div>\n",
       "<style scoped>\n",
       "    .dataframe tbody tr th:only-of-type {\n",
       "        vertical-align: middle;\n",
       "    }\n",
       "\n",
       "    .dataframe tbody tr th {\n",
       "        vertical-align: top;\n",
       "    }\n",
       "\n",
       "    .dataframe thead th {\n",
       "        text-align: right;\n",
       "    }\n",
       "</style>\n",
       "<table border=\"1\" class=\"dataframe\">\n",
       "  <thead>\n",
       "    <tr style=\"text-align: right;\">\n",
       "      <th></th>\n",
       "      <th>Pokemon</th>\n",
       "      <th>Type</th>\n",
       "    </tr>\n",
       "  </thead>\n",
       "  <tbody>\n",
       "    <tr>\n",
       "      <th>0</th>\n",
       "      <td>Bulb</td>\n",
       "      <td>Grass</td>\n",
       "    </tr>\n",
       "    <tr>\n",
       "      <th>1</th>\n",
       "      <td>Ivy</td>\n",
       "      <td>Grass</td>\n",
       "    </tr>\n",
       "    <tr>\n",
       "      <th>2</th>\n",
       "      <td>Ven</td>\n",
       "      <td>Grass</td>\n",
       "    </tr>\n",
       "    <tr>\n",
       "      <th>3</th>\n",
       "      <td>Charm</td>\n",
       "      <td>Fire</td>\n",
       "    </tr>\n",
       "    <tr>\n",
       "      <th>4</th>\n",
       "      <td>Charm2</td>\n",
       "      <td>Fire</td>\n",
       "    </tr>\n",
       "  </tbody>\n",
       "</table>\n",
       "</div>"
      ],
      "text/plain": [
       "  Pokemon   Type\n",
       "0    Bulb  Grass\n",
       "1     Ivy  Grass\n",
       "2     Ven  Grass\n",
       "3   Charm   Fire\n",
       "4  Charm2   Fire"
      ]
     },
     "execution_count": 18,
     "metadata": {},
     "output_type": "execute_result"
    }
   ],
   "source": [
    "\n",
    "df.head()"
   ]
  },
  {
   "cell_type": "code",
   "execution_count": 19,
   "metadata": {},
   "outputs": [
    {
     "data": {
      "text/html": [
       "<div>\n",
       "<style scoped>\n",
       "    .dataframe tbody tr th:only-of-type {\n",
       "        vertical-align: middle;\n",
       "    }\n",
       "\n",
       "    .dataframe tbody tr th {\n",
       "        vertical-align: top;\n",
       "    }\n",
       "\n",
       "    .dataframe thead th {\n",
       "        text-align: right;\n",
       "    }\n",
       "</style>\n",
       "<table border=\"1\" class=\"dataframe\">\n",
       "  <thead>\n",
       "    <tr style=\"text-align: right;\">\n",
       "      <th></th>\n",
       "      <th>Pokemon</th>\n",
       "      <th>Type</th>\n",
       "      <th>Type New</th>\n",
       "    </tr>\n",
       "  </thead>\n",
       "  <tbody>\n",
       "    <tr>\n",
       "      <th>0</th>\n",
       "      <td>Bulb</td>\n",
       "      <td>Grass</td>\n",
       "      <td>Green</td>\n",
       "    </tr>\n",
       "    <tr>\n",
       "      <th>1</th>\n",
       "      <td>Ivy</td>\n",
       "      <td>Grass</td>\n",
       "      <td>Green</td>\n",
       "    </tr>\n",
       "    <tr>\n",
       "      <th>2</th>\n",
       "      <td>Ven</td>\n",
       "      <td>Grass</td>\n",
       "      <td>Green</td>\n",
       "    </tr>\n",
       "    <tr>\n",
       "      <th>3</th>\n",
       "      <td>Charm</td>\n",
       "      <td>Fire</td>\n",
       "      <td>Orange</td>\n",
       "    </tr>\n",
       "    <tr>\n",
       "      <th>4</th>\n",
       "      <td>Charm2</td>\n",
       "      <td>Fire</td>\n",
       "      <td>Orange</td>\n",
       "    </tr>\n",
       "  </tbody>\n",
       "</table>\n",
       "</div>"
      ],
      "text/plain": [
       "  Pokemon   Type Type New\n",
       "0    Bulb  Grass    Green\n",
       "1     Ivy  Grass    Green\n",
       "2     Ven  Grass    Green\n",
       "3   Charm   Fire   Orange\n",
       "4  Charm2   Fire   Orange"
      ]
     },
     "execution_count": 19,
     "metadata": {},
     "output_type": "execute_result"
    }
   ],
   "source": [
    "Type_new = pd.Series([], dtype=int)\n",
    "\n",
    "for i in range(len(df)):\n",
    "    if df[\"Type\"][i] == \"Grass\":\n",
    "        Type_new[i]= \"Green\"\n",
    "    elif df[\"Type\"][i] == \"Fire\":\n",
    "        Type_new[i] = \"Orange\"\n",
    "    elif df[\"Type\"][i] == \"Water\":\n",
    "        Type_new[i] = \"Blue\"\n",
    "    else:\n",
    "        Type_new[i] = df['Type'][i]\n",
    "    \n",
    "df.insert(2,\"Type New\",Type_new)\n",
    "\n",
    "df.head()"
   ]
  },
  {
   "cell_type": "markdown",
   "metadata": {},
   "source": [
    "<h1>Pandas Series</h1>"
   ]
  },
  {
   "cell_type": "markdown",
   "metadata": {},
   "source": [
    "<h4> Creating Series </h4>"
   ]
  },
  {
   "cell_type": "code",
   "execution_count": 5,
   "metadata": {},
   "outputs": [
    {
     "data": {
      "text/plain": [
       "0    Y\n",
       "1    o\n",
       "2    u\n",
       "3    a\n",
       "4    r\n",
       "5    e\n",
       "dtype: object"
      ]
     },
     "execution_count": 5,
     "metadata": {},
     "output_type": "execute_result"
    }
   ],
   "source": [
    "data = np.array(['Y', 'o', 'u', 'a','r','e'])\n",
    "ser = pd.Series(data)\n",
    "\n",
    "ser"
   ]
  },
  {
   "cell_type": "code",
   "execution_count": 11,
   "metadata": {},
   "outputs": [
    {
     "data": {
      "text/plain": [
       "0    Y\n",
       "1    o\n",
       "2    u\n",
       "dtype: object"
      ]
     },
     "execution_count": 11,
     "metadata": {},
     "output_type": "execute_result"
    }
   ],
   "source": [
    "list1 = ['Y', 'o', 'u', 'a','r','e']\n",
    "\n",
    "seri = pd.Series(list1)\n",
    "seri[:3]"
   ]
  },
  {
   "cell_type": "code",
   "execution_count": 15,
   "metadata": {},
   "outputs": [
    {
     "data": {
      "text/plain": [
       "3      R.J. Hunter\n",
       "4    Jonas Jerebko\n",
       "5     Amir Johnson\n",
       "Name: Name, dtype: object"
      ]
     },
     "execution_count": 15,
     "metadata": {},
     "output_type": "execute_result"
    }
   ],
   "source": [
    "df = pd.read_csv('nba.csv')\n",
    "ser = pd.Series(df['Name'])\n",
    "\n",
    "data = ser.head(10)\n",
    "#data.loc[3:6]\n",
    "\n",
    "data.iloc[3:6]"
   ]
  },
  {
   "cell_type": "markdown",
   "metadata": {},
   "source": [
    "Binary Operations on Series"
   ]
  },
  {
   "cell_type": "code",
   "execution_count": 18,
   "metadata": {},
   "outputs": [
    {
     "name": "stdout",
     "output_type": "stream",
     "text": [
      "a    5\n",
      "b    2\n",
      "c    3\n",
      "d    7\n",
      "dtype: int64 \n",
      "\n",
      " a    1\n",
      "b    6\n",
      "d    4\n",
      "e    9\n",
      "dtype: int64\n"
     ]
    }
   ],
   "source": [
    "data = pd.Series([5, 2, 3, 7], index= ['a', 'b', 'c', 'd'])\n",
    "\n",
    "data1 = pd.Series([1,6,4,9], index = ['a', 'b', 'd', 'e'])\n",
    "\n",
    "print(data, \"\\n\\n\", data1)"
   ]
  },
  {
   "cell_type": "code",
   "execution_count": 19,
   "metadata": {},
   "outputs": [
    {
     "data": {
      "text/plain": [
       "a     6.0\n",
       "b     8.0\n",
       "c     3.0\n",
       "d    11.0\n",
       "e     9.0\n",
       "dtype: float64"
      ]
     },
     "execution_count": 19,
     "metadata": {},
     "output_type": "execute_result"
    }
   ],
   "source": [
    "data.add(data1,fill_value=0)"
   ]
  },
  {
   "cell_type": "code",
   "execution_count": 20,
   "metadata": {},
   "outputs": [
    {
     "data": {
      "text/plain": [
       "a    4.0\n",
       "b   -4.0\n",
       "c    3.0\n",
       "d    3.0\n",
       "e   -9.0\n",
       "dtype: float64"
      ]
     },
     "execution_count": 20,
     "metadata": {},
     "output_type": "execute_result"
    }
   ],
   "source": [
    "data.sub(data1, fill_value=0)"
   ]
  },
  {
   "cell_type": "code",
   "execution_count": 22,
   "metadata": {},
   "outputs": [
    {
     "name": "stdout",
     "output_type": "stream",
     "text": [
      "BEFORE CONVERSION\n",
      " Name         object\n",
      "Team         object\n",
      "Number      float64\n",
      "Position     object\n",
      "Age         float64\n",
      "Height       object\n",
      "Weight      float64\n",
      "College      object\n",
      "Salary      float64\n",
      "dtype: object \n",
      "\n",
      "AFTER CONVERSION\n",
      " Name         object\n",
      "Team         object\n",
      "Number       object\n",
      "Position     object\n",
      "Age         float64\n",
      "Height       object\n",
      "Weight      float64\n",
      "College      object\n",
      "Salary        int32\n",
      "dtype: object \n",
      "\n"
     ]
    }
   ],
   "source": [
    "data = pd.read_csv(\"nba.csv\")\n",
    "data.dropna(inplace=True)\n",
    "\n",
    "before = data.dtypes\n",
    "\n",
    "data['Salary'] = data['Salary'].astype(int)\n",
    "data['Number'] = data['Number'].astype(str)\n",
    "\n",
    "after = data.dtypes\n",
    "\n",
    "print(\"BEFORE CONVERSION\\n\", before, \"\\n\")\n",
    "print(\"AFTER CONVERSION\\n\", after, \"\\n\")"
   ]
  },
  {
   "cell_type": "code",
   "execution_count": 25,
   "metadata": {},
   "outputs": [
    {
     "name": "stdout",
     "output_type": "stream",
     "text": [
      "Data type before converting = <class 'pandas.core.series.Series'>\n",
      " Data type after converting = <class 'pandas.core.series.Series'>\n"
     ]
    },
    {
     "data": {
      "text/plain": [
       "[7730337.0,\n",
       " 6796117.0,\n",
       " 1148640.0,\n",
       " 1170960.0,\n",
       " 2165160.0,\n",
       " 1824360.0,\n",
       " 3431040.0,\n",
       " 2569260.0,\n",
       " 6912869.0,\n",
       " 3425510.0,\n",
       " 1749840.0,\n",
       " 2616975.0,\n",
       " 845059.0,\n",
       " 1500000.0,\n",
       " 1335480.0,\n",
       " 6300000.0,\n",
       " 134215.0,\n",
       " 1500000.0,\n",
       " 19689000.0,\n",
       " 1140240.0,\n",
       " 947276.0,\n",
       " 981348.0,\n",
       " 947276.0,\n",
       " 947276.0,\n",
       " 11235955.0,\n",
       " 8000000.0,\n",
       " 1635476.0,\n",
       " 22875000.0,\n",
       " 845059.0,\n",
       " 845059.0,\n",
       " 1572360.0,\n",
       " 12650000.0,\n",
       " 3750000.0,\n",
       " 1636842.0,\n",
       " 4000000.0,\n",
       " 167406.0,\n",
       " 947276.0,\n",
       " 1000000.0,\n",
       " 4626960.0,\n",
       " 845059.0,\n",
       " 1074169.0,\n",
       " 6500000.0,\n",
       " 2144772.0,\n",
       " 525093.0,\n",
       " 3457800.0,\n",
       " 4582680.0,\n",
       " 947276.0,\n",
       " 2869440.0,\n",
       " 947276.0,\n",
       " 525093.0,\n",
       " 13600000.0,\n",
       " 10050000.0,\n",
       " 2500000.0,\n",
       " 7000000.0,\n",
       " 12000000.0,\n",
       " 6268675.0,\n",
       " 650000.0,\n",
       " 3553917.0,\n",
       " 245177.0,\n",
       " 1509360.0,\n",
       " 3873398.0,\n",
       " 13800000.0,\n",
       " 947276.0,\n",
       " 11370786.0,\n",
       " 2008748.0,\n",
       " 14260870.0,\n",
       " 11710456.0,\n",
       " 1131960.0,\n",
       " 845059.0,\n",
       " 1270964.0,\n",
       " 3815000.0,\n",
       " 15501000.0,\n",
       " 1100602.0,\n",
       " 111444.0,\n",
       " 5675000.0,\n",
       " 525093.0,\n",
       " 9650000.0,\n",
       " 18907726.0,\n",
       " 1100602.0,\n",
       " 19689000.0,\n",
       " 947276.0,\n",
       " 21468695.0,\n",
       " 3376000.0,\n",
       " 7085000.0,\n",
       " 3110796.0,\n",
       " 1159680.0,\n",
       " 3000000.0,\n",
       " 845059.0,\n",
       " 700000.0,\n",
       " 845059.0,\n",
       " 15592217.0,\n",
       " 1724250.0,\n",
       " 1155600.0,\n",
       " 3132240.0,\n",
       " 5103120.0,\n",
       " 981348.0,\n",
       " 947276.0,\n",
       " 5219169.0,\n",
       " 13500000.0,\n",
       " 2127840.0,\n",
       " 206192.0,\n",
       " 1160160.0,\n",
       " 981348.0,\n",
       " 13500000.0,\n",
       " 3807120.0,\n",
       " 1035000.0,\n",
       " 55722.0,\n",
       " 947276.0,\n",
       " 5500000.0,\n",
       " 2041080.0,\n",
       " 83397.0,\n",
       " 981348.0,\n",
       " 1015421.0,\n",
       " 1449187.0,\n",
       " 3398280.0,\n",
       " 5013559.0,\n",
       " 15851950.0,\n",
       " 947276.0,\n",
       " 525093.0,\n",
       " 12403101.0,\n",
       " 7700000.0,\n",
       " 3156600.0,\n",
       " 845059.0,\n",
       " 9500000.0,\n",
       " 845059.0,\n",
       " 2250000.0,\n",
       " 16407500.0,\n",
       " 4500000.0,\n",
       " 8500000.0,\n",
       " 947276.0,\n",
       " 2380440.0,\n",
       " 1015421.0,\n",
       " 13400000.0,\n",
       " 1391160.0,\n",
       " 20093064.0,\n",
       " 1535880.0,\n",
       " 1147276.0,\n",
       " 8193029.0,\n",
       " 16407501.0,\n",
       " 947276.0,\n",
       " 947276.0,\n",
       " 1276000.0,\n",
       " 19689000.0,\n",
       " 111196.0,\n",
       " 8988765.0,\n",
       " 14260870.0,\n",
       " 2100000.0,\n",
       " 2500000.0,\n",
       " 6500000.0,\n",
       " 2170465.0,\n",
       " 111444.0,\n",
       " 1252440.0,\n",
       " 2891760.0,\n",
       " 845059.0,\n",
       " 3272091.0,\n",
       " 16000000.0,\n",
       " 600000.0,\n",
       " 13913044.0,\n",
       " 2841960.0,\n",
       " 6270000.0,\n",
       " 5000000.0,\n",
       " 3000000.0,\n",
       " 4050000.0,\n",
       " 1007026.0,\n",
       " 17120106.0,\n",
       " 8000000.0,\n",
       " 4000000.0,\n",
       " 1358880.0,\n",
       " 211744.0,\n",
       " 1100000.0,\n",
       " 7000000.0,\n",
       " 2357760.0,\n",
       " 845059.0,\n",
       " 1007026.0,\n",
       " 3000000.0,\n",
       " 2399040.0,\n",
       " 947276.0,\n",
       " 1662360.0,\n",
       " 2943221.0,\n",
       " 8000000.0,\n",
       " 14700000.0,\n",
       " 16407500.0,\n",
       " 295327.0,\n",
       " 845059.0,\n",
       " 5152440.0,\n",
       " 2109294.0,\n",
       " 6600000.0,\n",
       " 1733040.0,\n",
       " 1449000.0,\n",
       " 4290000.0,\n",
       " 1100602.0,\n",
       " 3950313.0,\n",
       " 4053446.0,\n",
       " 2085671.0,\n",
       " 16407500.0,\n",
       " 1270964.0,\n",
       " 15361500.0,\n",
       " 845059.0,\n",
       " 947276.0,\n",
       " 5378974.0,\n",
       " 8193030.0,\n",
       " 306527.0,\n",
       " 6486486.0,\n",
       " 8229375.0,\n",
       " 1646400.0,\n",
       " 200600.0,\n",
       " 15756438.0,\n",
       " 1000000.0,\n",
       " 2489530.0,\n",
       " 3189794.0,\n",
       " 947276.0,\n",
       " 1404600.0,\n",
       " 5158539.0,\n",
       " 5000000.0,\n",
       " 3542500.0,\n",
       " 4088019.0,\n",
       " 9588426.0,\n",
       " 700902.0,\n",
       " 845059.0,\n",
       " 1201440.0,\n",
       " 1230840.0,\n",
       " 9638555.0,\n",
       " 9000000.0,\n",
       " 5464000.0,\n",
       " 8500000.0,\n",
       " 1100602.0,\n",
       " 3036927.0,\n",
       " 2850000.0,\n",
       " 7070730.0,\n",
       " 169883.0,\n",
       " 1164858.0,\n",
       " 845059.0,\n",
       " 10734586.0,\n",
       " 845059.0,\n",
       " 1320000.0,\n",
       " 15514031.0,\n",
       " 1015421.0,\n",
       " 10595507.0,\n",
       " 55722.0,\n",
       " 3382023.0,\n",
       " 19689000.0,\n",
       " 1142880.0,\n",
       " 947276.0,\n",
       " 5250000.0,\n",
       " 10000000.0,\n",
       " 16407500.0,\n",
       " 200600.0,\n",
       " 250750.0,\n",
       " 3578947.0,\n",
       " 525093.0,\n",
       " 1499187.0,\n",
       " 2000000.0,\n",
       " 1304520.0,\n",
       " 2854940.0,\n",
       " 12000000.0,\n",
       " 1000000.0,\n",
       " 5746479.0,\n",
       " 18671659.0,\n",
       " 947276.0,\n",
       " 525093.0,\n",
       " 3333333.0,\n",
       " 8000000.0,\n",
       " 947276.0,\n",
       " 189455.0,\n",
       " 947276.0,\n",
       " 525093.0,\n",
       " 6110034.0,\n",
       " 2612520.0,\n",
       " 6331404.0,\n",
       " 3034356.0,\n",
       " 5675000.0,\n",
       " 2139000.0,\n",
       " 12000000.0,\n",
       " 7000000.0,\n",
       " 4204200.0,\n",
       " 22192730.0,\n",
       " 10151612.0,\n",
       " 2854940.0,\n",
       " 261894.0,\n",
       " 845059.0,\n",
       " 5543725.0,\n",
       " 525093.0,\n",
       " 20000000.0,\n",
       " 981348.0,\n",
       " 2481720.0,\n",
       " 947276.0,\n",
       " 4171680.0,\n",
       " 845059.0,\n",
       " 1294440.0,\n",
       " 2380593.0,\n",
       " 5192520.0,\n",
       " 2505720.0,\n",
       " 4300000.0,\n",
       " 11250000.0,\n",
       " 5000000.0,\n",
       " 4000000.0,\n",
       " 5694674.0,\n",
       " 4375000.0,\n",
       " 561716.0,\n",
       " 3300000.0,\n",
       " 273038.0,\n",
       " 8000000.0,\n",
       " 1920240.0,\n",
       " 4662960.0,\n",
       " 2170465.0,\n",
       " 1100602.0,\n",
       " 200600.0,\n",
       " 15851950.0,\n",
       " 2814000.0,\n",
       " 3000000.0,\n",
       " 3533333.0,\n",
       " 10449438.0,\n",
       " 11235955.0,\n",
       " 1584480.0,\n",
       " 947276.0,\n",
       " 4345000.0,\n",
       " 258489.0,\n",
       " 1474440.0,\n",
       " 1282080.0,\n",
       " 2148360.0,\n",
       " 2056920.0,\n",
       " 1938840.0,\n",
       " 947276.0,\n",
       " 5703600.0,\n",
       " 5758680.0,\n",
       " 2279040.0,\n",
       " 3750000.0,\n",
       " 20158622.0,\n",
       " 3135000.0,\n",
       " 1140240.0,\n",
       " 16407500.0,\n",
       " 1463040.0,\n",
       " 222888.0,\n",
       " 3344000.0,\n",
       " 2021520.0,\n",
       " 1210800.0,\n",
       " 4500000.0,\n",
       " 5138430.0,\n",
       " 16744218.0,\n",
       " 525093.0,\n",
       " 8042895.0,\n",
       " 625093.0,\n",
       " 947276.0,\n",
       " 6980802.0,\n",
       " 2894059.0,\n",
       " 6000000.0,\n",
       " 5016000.0,\n",
       " 3075880.0,\n",
       " 4236287.0,\n",
       " 2525160.0,\n",
       " 525093.0,\n",
       " 1415520.0,\n",
       " 2854940.0,\n",
       " 2637720.0,\n",
       " 4775000.0,\n",
       " 2658240.0,\n",
       " 9463484.0,\n",
       " 12000000.0,\n",
       " 15409570.0,\n",
       " 1348440.0,\n",
       " 981348.0,\n",
       " 2239800.0,\n",
       " 2433333.0,\n",
       " 947276.0]"
      ]
     },
     "execution_count": 25,
     "metadata": {},
     "output_type": "execute_result"
    }
   ],
   "source": [
    "# Python program converting\n",
    "# a series into list\n",
    "\n",
    "data = pd.read_csv(\"nba.csv\")\n",
    "data.dropna(inplace= True)\n",
    "\n",
    "dtype_before = type(data['Salary'])\n",
    "\n",
    "salary_list = data['Salary'].tolist()\n",
    "\n",
    "dtype_after = type(data['Salary'])\n",
    "\n",
    "print(\"Data type before converting = {}\\n Data type after converting = {}\".format(dtype_before, dtype_after))\n",
    "salary_list"
   ]
  },
  {
   "cell_type": "code",
   "execution_count": 27,
   "metadata": {},
   "outputs": [
    {
     "data": {
      "text/plain": [
       "Series([], dtype: int32)"
      ]
     },
     "execution_count": 27,
     "metadata": {},
     "output_type": "execute_result"
    }
   ],
   "source": [
    "ser = pd.Series([],dtype=int)\n",
    "ser"
   ]
  },
  {
   "cell_type": "code",
   "execution_count": null,
   "metadata": {},
   "outputs": [],
   "source": []
  }
 ],
 "metadata": {
  "interpreter": {
   "hash": "4859fee26058e8ca17febd5879282eac5807242a069f75e15c8ca31154d0b53e"
  },
  "kernelspec": {
   "display_name": "Python 3 (ipykernel)",
   "language": "python",
   "name": "python3"
  },
  "language_info": {
   "codemirror_mode": {
    "name": "ipython",
    "version": 3
   },
   "file_extension": ".py",
   "mimetype": "text/x-python",
   "name": "python",
   "nbconvert_exporter": "python",
   "pygments_lexer": "ipython3",
   "version": "3.8.6"
  }
 },
 "nbformat": 4,
 "nbformat_minor": 2
}
